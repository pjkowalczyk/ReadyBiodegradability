{
 "cells": [
  {
   "cell_type": "markdown",
   "metadata": {},
   "source": [
    "# Instantiate compute environment"
   ]
  },
  {
   "cell_type": "code",
   "execution_count": 1,
   "metadata": {},
   "outputs": [],
   "source": [
    "import warnings\n",
    "warnings.simplefilter(action='ignore', category=FutureWarning)\n",
    "\n",
    "import pandas as pd\n",
    "import numpy as np\n",
    "from sklearn.model_selection import train_test_split\n",
    "from sklearn.feature_selection import VarianceThreshold\n",
    "from sklearn.preprocessing import StandardScaler\n",
    "from sklearn.ensemble import RandomForestClassifier\n",
    "from sklearn.model_selection import RandomizedSearchCV\n",
    "from sklearn import metrics\n",
    "from sklearn.metrics import confusion_matrix\n",
    "from sklearn.svm import SVC\n",
    "from sklearn.linear_model import LogisticRegression\n",
    "from sklearn.naive_bayes import GaussianNB\n",
    "from sklearn.decomposition import PCA\n",
    "from sklearn.manifold import TSNE\n",
    "from sklearn.manifold import MDS\n",
    "from rdkit import Chem\n",
    "from rdkit.Chem import Descriptors\n",
    "from rdkit.ML.Descriptors import MoleculeDescriptors\n",
    "from scipy import stats\n",
    "from pprint import pprint\n",
    "import matplotlib.pyplot as plt\n",
    "import seaborn as sns\n",
    "color = sns.color_palette()"
   ]
  },
  {
   "cell_type": "markdown",
   "metadata": {},
   "source": [
    "# Read Data"
   ]
  },
  {
   "cell_type": "code",
   "execution_count": 2,
   "metadata": {},
   "outputs": [
    {
     "data": {
      "text/html": [
       "<div>\n",
       "<style scoped>\n",
       "    .dataframe tbody tr th:only-of-type {\n",
       "        vertical-align: middle;\n",
       "    }\n",
       "\n",
       "    .dataframe tbody tr th {\n",
       "        vertical-align: top;\n",
       "    }\n",
       "\n",
       "    .dataframe thead th {\n",
       "        text-align: right;\n",
       "    }\n",
       "</style>\n",
       "<table border=\"1\" class=\"dataframe\">\n",
       "  <thead>\n",
       "    <tr style=\"text-align: right;\">\n",
       "      <th></th>\n",
       "      <th>SMILES</th>\n",
       "      <th>InChI</th>\n",
       "      <th>EndPt</th>\n",
       "      <th>ReadyBiodeg</th>\n",
       "    </tr>\n",
       "  </thead>\n",
       "  <tbody>\n",
       "    <tr>\n",
       "      <th>707</th>\n",
       "      <td>OS(=O)(=O)c1ccc(cc1)N(=O)=O</td>\n",
       "      <td>SPXOTSHWBDUUMT-UHFFFAOYSA-N</td>\n",
       "      <td>NRB</td>\n",
       "      <td>0</td>\n",
       "    </tr>\n",
       "    <tr>\n",
       "      <th>142</th>\n",
       "      <td>Cc1ccc(O)c(c1)n2n3n2c4ccccc34</td>\n",
       "      <td>YXJVVCASIQTSCQ-UHFFFAOYSA-N</td>\n",
       "      <td>NRB</td>\n",
       "      <td>0</td>\n",
       "    </tr>\n",
       "    <tr>\n",
       "      <th>407</th>\n",
       "      <td>CCCN(c1ccc(c(c1)NC(=O)C)/N=N/c1c(Br)cc(cc1C#N)...</td>\n",
       "      <td>MFZCNHQXBMFAEU-OCEACIFDSA-N</td>\n",
       "      <td>NRB</td>\n",
       "      <td>0</td>\n",
       "    </tr>\n",
       "    <tr>\n",
       "      <th>678</th>\n",
       "      <td>O=C1c2ccccc2c3cccc4cccc1c34</td>\n",
       "      <td>HUKPVYBUJRAUAG-UHFFFAOYSA-N</td>\n",
       "      <td>NRB</td>\n",
       "      <td>0</td>\n",
       "    </tr>\n",
       "    <tr>\n",
       "      <th>116</th>\n",
       "      <td>CC(=O)OCCN(CCOC(C)=O)c1ccc(N=Nc2sc3cc(Cl)ccc3n...</td>\n",
       "      <td>UGFKGKQLDQFUEG-UHFFFAOYSA-N</td>\n",
       "      <td>NRB</td>\n",
       "      <td>0</td>\n",
       "    </tr>\n",
       "  </tbody>\n",
       "</table>\n",
       "</div>"
      ],
      "text/plain": [
       "                                                SMILES  \\\n",
       "707                        OS(=O)(=O)c1ccc(cc1)N(=O)=O   \n",
       "142                      Cc1ccc(O)c(c1)n2n3n2c4ccccc34   \n",
       "407  CCCN(c1ccc(c(c1)NC(=O)C)/N=N/c1c(Br)cc(cc1C#N)...   \n",
       "678                        O=C1c2ccccc2c3cccc4cccc1c34   \n",
       "116  CC(=O)OCCN(CCOC(C)=O)c1ccc(N=Nc2sc3cc(Cl)ccc3n...   \n",
       "\n",
       "                           InChI EndPt  ReadyBiodeg  \n",
       "707  SPXOTSHWBDUUMT-UHFFFAOYSA-N   NRB            0  \n",
       "142  YXJVVCASIQTSCQ-UHFFFAOYSA-N   NRB            0  \n",
       "407  MFZCNHQXBMFAEU-OCEACIFDSA-N   NRB            0  \n",
       "678  HUKPVYBUJRAUAG-UHFFFAOYSA-N   NRB            0  \n",
       "116  UGFKGKQLDQFUEG-UHFFFAOYSA-N   NRB            0  "
      ]
     },
     "execution_count": 2,
     "metadata": {},
     "output_type": "execute_result"
    }
   ],
   "source": [
    "df = pd.read_csv('data/processed/alles02.csv', header = 0)\n",
    "df = df.drop(['Unnamed: 0'], axis=1)\n",
    "df.sample(5).head()"
   ]
  },
  {
   "cell_type": "markdown",
   "metadata": {},
   "source": [
    "# Calculate features"
   ]
  },
  {
   "cell_type": "code",
   "execution_count": 3,
   "metadata": {},
   "outputs": [],
   "source": [
    "nms = [x[0] for x in Descriptors._descList]\n",
    "calc = MoleculeDescriptors.MolecularDescriptorCalculator(nms)\n",
    "for i in range(len(df)):\n",
    "    try:\n",
    "        descrs = calc.CalcDescriptors(Chem.MolFromSmiles(df.iloc[i, 0]))\n",
    "        for x in range(len(descrs)):\n",
    "            df.at[i, str(nms[x])] = descrs[x]\n",
    "    except:\n",
    "        for x in range(len(descrs)):\n",
    "            df.at[i, str(nms[x])] = 'NaN'   \n",
    "            \n",
    "df = df.replace([np.inf, -np.inf], np.nan)\n",
    "df = df.dropna()\n",
    "df = df.reset_index(drop=True)"
   ]
  },
  {
   "cell_type": "code",
   "execution_count": 4,
   "metadata": {
    "scrolled": true
   },
   "outputs": [
    {
     "data": {
      "text/html": [
       "<div>\n",
       "<style scoped>\n",
       "    .dataframe tbody tr th:only-of-type {\n",
       "        vertical-align: middle;\n",
       "    }\n",
       "\n",
       "    .dataframe tbody tr th {\n",
       "        vertical-align: top;\n",
       "    }\n",
       "\n",
       "    .dataframe thead th {\n",
       "        text-align: right;\n",
       "    }\n",
       "</style>\n",
       "<table border=\"1\" class=\"dataframe\">\n",
       "  <thead>\n",
       "    <tr style=\"text-align: right;\">\n",
       "      <th></th>\n",
       "      <th>SMILES</th>\n",
       "      <th>InChI</th>\n",
       "      <th>EndPt</th>\n",
       "      <th>ReadyBiodeg</th>\n",
       "      <th>MaxEStateIndex</th>\n",
       "      <th>MinEStateIndex</th>\n",
       "      <th>MaxAbsEStateIndex</th>\n",
       "      <th>MinAbsEStateIndex</th>\n",
       "      <th>qed</th>\n",
       "      <th>MolWt</th>\n",
       "      <th>...</th>\n",
       "      <th>fr_sulfide</th>\n",
       "      <th>fr_sulfonamd</th>\n",
       "      <th>fr_sulfone</th>\n",
       "      <th>fr_term_acetylene</th>\n",
       "      <th>fr_tetrazole</th>\n",
       "      <th>fr_thiazole</th>\n",
       "      <th>fr_thiocyan</th>\n",
       "      <th>fr_thiophene</th>\n",
       "      <th>fr_unbrch_alkane</th>\n",
       "      <th>fr_urea</th>\n",
       "    </tr>\n",
       "  </thead>\n",
       "  <tbody>\n",
       "    <tr>\n",
       "      <th>1209</th>\n",
       "      <td>Oc1ccc(cc1)C1(OC(=O)c2ccccc12)c1ccc(O)cc1</td>\n",
       "      <td>KJFMBFZCATUALV-UHFFFAOYSA-N</td>\n",
       "      <td>NRB</td>\n",
       "      <td>0</td>\n",
       "      <td>12.440656</td>\n",
       "      <td>-1.102106</td>\n",
       "      <td>12.440656</td>\n",
       "      <td>0.136310</td>\n",
       "      <td>0.709067</td>\n",
       "      <td>318.328</td>\n",
       "      <td>...</td>\n",
       "      <td>0.0</td>\n",
       "      <td>0.0</td>\n",
       "      <td>0.0</td>\n",
       "      <td>0.0</td>\n",
       "      <td>0.0</td>\n",
       "      <td>0.0</td>\n",
       "      <td>0.0</td>\n",
       "      <td>0.0</td>\n",
       "      <td>0.0</td>\n",
       "      <td>0.0</td>\n",
       "    </tr>\n",
       "    <tr>\n",
       "      <th>605</th>\n",
       "      <td>CCOC(=O)CCCCC(=O)O</td>\n",
       "      <td>UZNLHJCCGYKCIL-UHFFFAOYSA-N</td>\n",
       "      <td>RB</td>\n",
       "      <td>1</td>\n",
       "      <td>10.718080</td>\n",
       "      <td>-0.820501</td>\n",
       "      <td>10.718080</td>\n",
       "      <td>0.124410</td>\n",
       "      <td>0.485018</td>\n",
       "      <td>174.196</td>\n",
       "      <td>...</td>\n",
       "      <td>0.0</td>\n",
       "      <td>0.0</td>\n",
       "      <td>0.0</td>\n",
       "      <td>0.0</td>\n",
       "      <td>0.0</td>\n",
       "      <td>0.0</td>\n",
       "      <td>0.0</td>\n",
       "      <td>0.0</td>\n",
       "      <td>1.0</td>\n",
       "      <td>0.0</td>\n",
       "    </tr>\n",
       "    <tr>\n",
       "      <th>1840</th>\n",
       "      <td>CN(C)CCN</td>\n",
       "      <td>DILRJUIACXKSQE-UHFFFAOYSA-N</td>\n",
       "      <td>NRB</td>\n",
       "      <td>0</td>\n",
       "      <td>5.187778</td>\n",
       "      <td>0.756944</td>\n",
       "      <td>5.187778</td>\n",
       "      <td>0.756944</td>\n",
       "      <td>0.493120</td>\n",
       "      <td>88.154</td>\n",
       "      <td>...</td>\n",
       "      <td>0.0</td>\n",
       "      <td>0.0</td>\n",
       "      <td>0.0</td>\n",
       "      <td>0.0</td>\n",
       "      <td>0.0</td>\n",
       "      <td>0.0</td>\n",
       "      <td>0.0</td>\n",
       "      <td>0.0</td>\n",
       "      <td>0.0</td>\n",
       "      <td>0.0</td>\n",
       "    </tr>\n",
       "    <tr>\n",
       "      <th>712</th>\n",
       "      <td>Clc1ccccc1NNc2ccccc2Cl</td>\n",
       "      <td>IWKMQNKKYZERHI-UHFFFAOYSA-N</td>\n",
       "      <td>NRB</td>\n",
       "      <td>0</td>\n",
       "      <td>5.994774</td>\n",
       "      <td>0.654679</td>\n",
       "      <td>5.994774</td>\n",
       "      <td>0.654679</td>\n",
       "      <td>0.790286</td>\n",
       "      <td>253.132</td>\n",
       "      <td>...</td>\n",
       "      <td>0.0</td>\n",
       "      <td>0.0</td>\n",
       "      <td>0.0</td>\n",
       "      <td>0.0</td>\n",
       "      <td>0.0</td>\n",
       "      <td>0.0</td>\n",
       "      <td>0.0</td>\n",
       "      <td>0.0</td>\n",
       "      <td>0.0</td>\n",
       "      <td>0.0</td>\n",
       "    </tr>\n",
       "    <tr>\n",
       "      <th>519</th>\n",
       "      <td>CCCCCCCCC=CCCCCCCCCC1CC(=O)OC1=O</td>\n",
       "      <td>UIQSPHZKORGIBU-UHFFFAOYSA-N</td>\n",
       "      <td>NRB</td>\n",
       "      <td>0</td>\n",
       "      <td>11.326629</td>\n",
       "      <td>-0.347641</td>\n",
       "      <td>11.326629</td>\n",
       "      <td>0.162702</td>\n",
       "      <td>0.137965</td>\n",
       "      <td>350.543</td>\n",
       "      <td>...</td>\n",
       "      <td>0.0</td>\n",
       "      <td>0.0</td>\n",
       "      <td>0.0</td>\n",
       "      <td>0.0</td>\n",
       "      <td>0.0</td>\n",
       "      <td>0.0</td>\n",
       "      <td>0.0</td>\n",
       "      <td>0.0</td>\n",
       "      <td>11.0</td>\n",
       "      <td>0.0</td>\n",
       "    </tr>\n",
       "  </tbody>\n",
       "</table>\n",
       "<p>5 rows × 204 columns</p>\n",
       "</div>"
      ],
      "text/plain": [
       "                                         SMILES                        InChI  \\\n",
       "1209  Oc1ccc(cc1)C1(OC(=O)c2ccccc12)c1ccc(O)cc1  KJFMBFZCATUALV-UHFFFAOYSA-N   \n",
       "605                          CCOC(=O)CCCCC(=O)O  UZNLHJCCGYKCIL-UHFFFAOYSA-N   \n",
       "1840                                   CN(C)CCN  DILRJUIACXKSQE-UHFFFAOYSA-N   \n",
       "712                      Clc1ccccc1NNc2ccccc2Cl  IWKMQNKKYZERHI-UHFFFAOYSA-N   \n",
       "519            CCCCCCCCC=CCCCCCCCCC1CC(=O)OC1=O  UIQSPHZKORGIBU-UHFFFAOYSA-N   \n",
       "\n",
       "     EndPt  ReadyBiodeg  MaxEStateIndex  MinEStateIndex  MaxAbsEStateIndex  \\\n",
       "1209   NRB            0       12.440656       -1.102106          12.440656   \n",
       "605     RB            1       10.718080       -0.820501          10.718080   \n",
       "1840   NRB            0        5.187778        0.756944           5.187778   \n",
       "712    NRB            0        5.994774        0.654679           5.994774   \n",
       "519    NRB            0       11.326629       -0.347641          11.326629   \n",
       "\n",
       "      MinAbsEStateIndex       qed    MolWt  ...  fr_sulfide  fr_sulfonamd  \\\n",
       "1209           0.136310  0.709067  318.328  ...         0.0           0.0   \n",
       "605            0.124410  0.485018  174.196  ...         0.0           0.0   \n",
       "1840           0.756944  0.493120   88.154  ...         0.0           0.0   \n",
       "712            0.654679  0.790286  253.132  ...         0.0           0.0   \n",
       "519            0.162702  0.137965  350.543  ...         0.0           0.0   \n",
       "\n",
       "      fr_sulfone  fr_term_acetylene  fr_tetrazole  fr_thiazole  fr_thiocyan  \\\n",
       "1209         0.0                0.0           0.0          0.0          0.0   \n",
       "605          0.0                0.0           0.0          0.0          0.0   \n",
       "1840         0.0                0.0           0.0          0.0          0.0   \n",
       "712          0.0                0.0           0.0          0.0          0.0   \n",
       "519          0.0                0.0           0.0          0.0          0.0   \n",
       "\n",
       "      fr_thiophene  fr_unbrch_alkane  fr_urea  \n",
       "1209           0.0               0.0      0.0  \n",
       "605            0.0               1.0      0.0  \n",
       "1840           0.0               0.0      0.0  \n",
       "712            0.0               0.0      0.0  \n",
       "519            0.0              11.0      0.0  \n",
       "\n",
       "[5 rows x 204 columns]"
      ]
     },
     "execution_count": 4,
     "metadata": {},
     "output_type": "execute_result"
    }
   ],
   "source": [
    "df.sample(5).head()"
   ]
  },
  {
   "cell_type": "code",
   "execution_count": 5,
   "metadata": {},
   "outputs": [
    {
     "data": {
      "text/plain": [
       "(2043, 204)"
      ]
     },
     "execution_count": 5,
     "metadata": {},
     "output_type": "execute_result"
    }
   ],
   "source": [
    "df.shape"
   ]
  },
  {
   "cell_type": "markdown",
   "metadata": {},
   "source": [
    "# Apply property filters\n",
    "Taken from:\n",
    "* \"Designing screens: how to make your hits a hit\" W. Patrick Walters & Mark Namchuk, *Nature Reviews Drug Discovery*, **2**, 259 - 266 (2003)  \n",
    "* \"Streamlining lead discovery by aligning *in silico* and high-throughput screening\" John W. Davies, Meir Glick, Jeremy L. Jenkins, *Current Opinion in Chemical Biology*, **10**(4), 343 - 351 (2006)"
   ]
  },
  {
   "cell_type": "code",
   "execution_count": 6,
   "metadata": {},
   "outputs": [
    {
     "data": {
      "text/plain": [
       "(2011, 204)"
      ]
     },
     "execution_count": 6,
     "metadata": {},
     "output_type": "execute_result"
    }
   ],
   "source": [
    "# molecular weight\n",
    "dfFiltered = df[df['MolWt'] <= 700]\n",
    "dfFiltered.shape"
   ]
  },
  {
   "cell_type": "code",
   "execution_count": 7,
   "metadata": {},
   "outputs": [
    {
     "data": {
      "text/plain": [
       "(2010, 204)"
      ]
     },
     "execution_count": 7,
     "metadata": {},
     "output_type": "execute_result"
    }
   ],
   "source": [
    "# heavy atom count\n",
    "dfFiltered = dfFiltered[dfFiltered['HeavyAtomCount'] <= 50]\n",
    "dfFiltered.shape"
   ]
  },
  {
   "cell_type": "code",
   "execution_count": 8,
   "metadata": {},
   "outputs": [
    {
     "data": {
      "text/plain": [
       "(1844, 204)"
      ]
     },
     "execution_count": 8,
     "metadata": {},
     "output_type": "execute_result"
    }
   ],
   "source": [
    "# number rotatable bonds\n",
    "dfFiltered = dfFiltered[dfFiltered['NumRotatableBonds'] <= 12]\n",
    "dfFiltered.shape"
   ]
  },
  {
   "cell_type": "code",
   "execution_count": 9,
   "metadata": {},
   "outputs": [
    {
     "data": {
      "text/plain": [
       "(1831, 204)"
      ]
     },
     "execution_count": 9,
     "metadata": {},
     "output_type": "execute_result"
    }
   ],
   "source": [
    "# H-bond donors\n",
    "dfFiltered = dfFiltered[dfFiltered['NumHDonors'] <= 5]\n",
    "dfFiltered.shape"
   ]
  },
  {
   "cell_type": "code",
   "execution_count": 10,
   "metadata": {},
   "outputs": [
    {
     "data": {
      "text/plain": [
       "(1820, 204)"
      ]
     },
     "execution_count": 10,
     "metadata": {},
     "output_type": "execute_result"
    }
   ],
   "source": [
    "# H-bond acceptors\n",
    "dfFiltered = dfFiltered[dfFiltered['NumHAcceptors'] <= 10]\n",
    "dfFiltered.shape"
   ]
  },
  {
   "cell_type": "code",
   "execution_count": 11,
   "metadata": {},
   "outputs": [
    {
     "data": {
      "text/plain": [
       "(1802, 204)"
      ]
     },
     "execution_count": 11,
     "metadata": {},
     "output_type": "execute_result"
    }
   ],
   "source": [
    "# hydrophobicity\n",
    "dfFiltered = dfFiltered[dfFiltered['MolLogP'] <= 7.5]\n",
    "dfFiltered.shape"
   ]
  },
  {
   "cell_type": "code",
   "execution_count": 12,
   "metadata": {},
   "outputs": [
    {
     "data": {
      "text/plain": [
       "(1802, 204)"
      ]
     },
     "execution_count": 12,
     "metadata": {},
     "output_type": "execute_result"
    }
   ],
   "source": [
    "# hydrophobicity\n",
    "dfFiltered = dfFiltered[dfFiltered['MolLogP'] >= -5.0]\n",
    "dfFiltered.shape"
   ]
  },
  {
   "cell_type": "code",
   "execution_count": 14,
   "metadata": {},
   "outputs": [],
   "source": [
    "X = dfFiltered.drop(columns = ['SMILES', 'EndPt', 'InChI', 'ReadyBiodeg'])\n",
    "y = np.ravel(dfFiltered[['ReadyBiodeg']])"
   ]
  },
  {
   "cell_type": "markdown",
   "metadata": {},
   "source": [
    "# Feature Engineering"
   ]
  },
  {
   "cell_type": "markdown",
   "metadata": {},
   "source": [
    "## Identify / remove near-zero variance descriptors"
   ]
  },
  {
   "cell_type": "code",
   "execution_count": 15,
   "metadata": {},
   "outputs": [],
   "source": [
    "def variance_threshold_selector(data, threshold = 0.5):\n",
    "    selector = VarianceThreshold(threshold)\n",
    "    selector.fit(data)\n",
    "    return data[data.columns[selector.get_support(indices = True)]]\n",
    "\n",
    "nzv = variance_threshold_selector(X, 0.0)\n",
    "\n",
    "X = X[nzv.columns]"
   ]
  },
  {
   "cell_type": "code",
   "execution_count": 16,
   "metadata": {},
   "outputs": [
    {
     "name": "stdout",
     "output_type": "stream",
     "text": [
      "(1802, 183)\n"
     ]
    }
   ],
   "source": [
    "print(X.shape)"
   ]
  },
  {
   "cell_type": "markdown",
   "metadata": {},
   "source": [
    "## Identify / remove highly correlated descriptors"
   ]
  },
  {
   "cell_type": "code",
   "execution_count": 17,
   "metadata": {},
   "outputs": [],
   "source": [
    "corr_matrix = X.corr().abs()\n",
    "upper = corr_matrix.where(np.triu(np.ones(corr_matrix.shape),\n",
    "                                  k = 1).astype(np.bool))\n",
    "to_drop = [column for column in upper.columns\n",
    "           if any(upper[column] > 0.85)]\n",
    "\n",
    "X = X[X.columns.drop(to_drop)]"
   ]
  },
  {
   "cell_type": "code",
   "execution_count": 18,
   "metadata": {},
   "outputs": [
    {
     "name": "stdout",
     "output_type": "stream",
     "text": [
      "(1802, 138)\n"
     ]
    }
   ],
   "source": [
    "print(X.shape)"
   ]
  },
  {
   "cell_type": "code",
   "execution_count": 23,
   "metadata": {},
   "outputs": [],
   "source": [
    "list(X_train.columns);"
   ]
  },
  {
   "cell_type": "markdown",
   "metadata": {},
   "source": [
    "## Standardize features by removing the mean and scaling to unit variance"
   ]
  },
  {
   "cell_type": "code",
   "execution_count": 19,
   "metadata": {},
   "outputs": [],
   "source": [
    "scaler = StandardScaler()\n",
    "scaler.fit(X)\n",
    "\n",
    "X = scaler.transform(X)"
   ]
  },
  {
   "cell_type": "markdown",
   "metadata": {},
   "source": [
    "## Nearest Neighbors"
   ]
  },
  {
   "cell_type": "code",
   "execution_count": 137,
   "metadata": {},
   "outputs": [
    {
     "ename": "KeyError",
     "evalue": "5",
     "output_type": "error",
     "traceback": [
      "\u001b[1;31m---------------------------------------------------------------------------\u001b[0m",
      "\u001b[1;31mKeyError\u001b[0m                                  Traceback (most recent call last)",
      "\u001b[1;32m<ipython-input-137-96a3c3059520>\u001b[0m in \u001b[0;36m<module>\u001b[1;34m()\u001b[0m\n\u001b[0;32m     25\u001b[0m \u001b[1;33m\u001b[0m\u001b[0m\n\u001b[0;32m     26\u001b[0m \u001b[0mdist\u001b[0m \u001b[1;33m=\u001b[0m \u001b[0mdistance_matrix\u001b[0m\u001b[1;33m(\u001b[0m\u001b[0mX\u001b[0m\u001b[1;33m,\u001b[0m \u001b[0mX\u001b[0m\u001b[1;33m,\u001b[0m \u001b[0mp\u001b[0m \u001b[1;33m=\u001b[0m \u001b[1;36m2\u001b[0m\u001b[1;33m,\u001b[0m \u001b[0mthreshold\u001b[0m \u001b[1;33m=\u001b[0m \u001b[1;36m1000000\u001b[0m\u001b[1;33m)\u001b[0m\u001b[1;33m\u001b[0m\u001b[1;33m\u001b[0m\u001b[0m\n\u001b[1;32m---> 27\u001b[1;33m \u001b[0mpd\u001b[0m\u001b[1;33m.\u001b[0m\u001b[0mDataFrame\u001b[0m\u001b[1;33m(\u001b[0m\u001b[0mnp\u001b[0m\u001b[1;33m.\u001b[0m\u001b[0mdelete\u001b[0m\u001b[1;33m(\u001b[0m\u001b[0mnp\u001b[0m\u001b[1;33m.\u001b[0m\u001b[0mtake\u001b[0m\u001b[1;33m(\u001b[0m\u001b[0mdist\u001b[0m\u001b[1;33m,\u001b[0m \u001b[1;36m0\u001b[0m\u001b[1;33m,\u001b[0m \u001b[1;36m0\u001b[0m\u001b[1;33m)\u001b[0m\u001b[1;33m,\u001b[0m \u001b[1;36m0\u001b[0m\u001b[1;33m,\u001b[0m \u001b[1;36m0\u001b[0m\u001b[1;33m)\u001b[0m\u001b[1;33m)\u001b[0m\u001b[1;33m.\u001b[0m\u001b[0msort_values\u001b[0m\u001b[1;33m(\u001b[0m\u001b[1;36m5\u001b[0m\u001b[1;33m)\u001b[0m\u001b[1;33m.\u001b[0m\u001b[0mhead\u001b[0m\u001b[1;33m(\u001b[0m\u001b[1;36m1\u001b[0m\u001b[1;33m)\u001b[0m\u001b[1;33m\u001b[0m\u001b[1;33m\u001b[0m\u001b[0m\n\u001b[0m\u001b[0;32m     28\u001b[0m \u001b[1;33m\u001b[0m\u001b[0m\n\u001b[0;32m     29\u001b[0m \u001b[1;31m#     testAvgDist5.loc[i, 'dist'] = euclid[0]\u001b[0m\u001b[1;33m\u001b[0m\u001b[1;33m\u001b[0m\u001b[1;33m\u001b[0m\u001b[0m\n",
      "\u001b[1;32m~\\AppData\\Roaming\\Python\\Python37\\site-packages\\pandas\\core\\frame.py\u001b[0m in \u001b[0;36msort_values\u001b[1;34m(self, by, axis, ascending, inplace, kind, na_position)\u001b[0m\n\u001b[0;32m   4986\u001b[0m \u001b[1;33m\u001b[0m\u001b[0m\n\u001b[0;32m   4987\u001b[0m             \u001b[0mby\u001b[0m \u001b[1;33m=\u001b[0m \u001b[0mby\u001b[0m\u001b[1;33m[\u001b[0m\u001b[1;36m0\u001b[0m\u001b[1;33m]\u001b[0m\u001b[1;33m\u001b[0m\u001b[1;33m\u001b[0m\u001b[0m\n\u001b[1;32m-> 4988\u001b[1;33m             \u001b[0mk\u001b[0m \u001b[1;33m=\u001b[0m \u001b[0mself\u001b[0m\u001b[1;33m.\u001b[0m\u001b[0m_get_label_or_level_values\u001b[0m\u001b[1;33m(\u001b[0m\u001b[0mby\u001b[0m\u001b[1;33m,\u001b[0m \u001b[0maxis\u001b[0m\u001b[1;33m=\u001b[0m\u001b[0maxis\u001b[0m\u001b[1;33m)\u001b[0m\u001b[1;33m\u001b[0m\u001b[1;33m\u001b[0m\u001b[0m\n\u001b[0m\u001b[0;32m   4989\u001b[0m \u001b[1;33m\u001b[0m\u001b[0m\n\u001b[0;32m   4990\u001b[0m             \u001b[1;32mif\u001b[0m \u001b[0misinstance\u001b[0m\u001b[1;33m(\u001b[0m\u001b[0mascending\u001b[0m\u001b[1;33m,\u001b[0m \u001b[1;33m(\u001b[0m\u001b[0mtuple\u001b[0m\u001b[1;33m,\u001b[0m \u001b[0mlist\u001b[0m\u001b[1;33m)\u001b[0m\u001b[1;33m)\u001b[0m\u001b[1;33m:\u001b[0m\u001b[1;33m\u001b[0m\u001b[1;33m\u001b[0m\u001b[0m\n",
      "\u001b[1;32m~\\AppData\\Roaming\\Python\\Python37\\site-packages\\pandas\\core\\generic.py\u001b[0m in \u001b[0;36m_get_label_or_level_values\u001b[1;34m(self, key, axis)\u001b[0m\n\u001b[0;32m   1773\u001b[0m             \u001b[0mvalues\u001b[0m \u001b[1;33m=\u001b[0m \u001b[0mself\u001b[0m\u001b[1;33m.\u001b[0m\u001b[0maxes\u001b[0m\u001b[1;33m[\u001b[0m\u001b[0maxis\u001b[0m\u001b[1;33m]\u001b[0m\u001b[1;33m.\u001b[0m\u001b[0mget_level_values\u001b[0m\u001b[1;33m(\u001b[0m\u001b[0mkey\u001b[0m\u001b[1;33m)\u001b[0m\u001b[1;33m.\u001b[0m\u001b[0m_values\u001b[0m\u001b[1;33m\u001b[0m\u001b[1;33m\u001b[0m\u001b[0m\n\u001b[0;32m   1774\u001b[0m         \u001b[1;32melse\u001b[0m\u001b[1;33m:\u001b[0m\u001b[1;33m\u001b[0m\u001b[1;33m\u001b[0m\u001b[0m\n\u001b[1;32m-> 1775\u001b[1;33m             \u001b[1;32mraise\u001b[0m \u001b[0mKeyError\u001b[0m\u001b[1;33m(\u001b[0m\u001b[0mkey\u001b[0m\u001b[1;33m)\u001b[0m\u001b[1;33m\u001b[0m\u001b[1;33m\u001b[0m\u001b[0m\n\u001b[0m\u001b[0;32m   1776\u001b[0m \u001b[1;33m\u001b[0m\u001b[0m\n\u001b[0;32m   1777\u001b[0m         \u001b[1;31m# Check for duplicates\u001b[0m\u001b[1;33m\u001b[0m\u001b[1;33m\u001b[0m\u001b[1;33m\u001b[0m\u001b[0m\n",
      "\u001b[1;31mKeyError\u001b[0m: 5"
     ]
    }
   ],
   "source": [
    "col_names =  ['expt', 'nn']\n",
    "results = pd.DataFrame(columns = col_names)\n",
    "\n",
    "# for i in range(len(X)):\n",
    "    \n",
    "#     # identify needle & haystack\n",
    "#     X_haystack = np.delete(X, i, 0)\n",
    "#     X_needle = np.take(X, i, 0)\n",
    "#     y_haystack = np.delete(y, i, 0)\n",
    "#     y_needle = np.take(y, i, 0)\n",
    "    \n",
    "#     # calculate distance from needle to every straw in the haystack\n",
    "#     for j in range(len(X_haystack)):\n",
    "#         distances.loc[j, 'dist'] = np.linalg.norm(X_needle - X_haystack[j])\n",
    "        \n",
    "#     euclid = distances.sort_values('dist').head(1)\n",
    "    \n",
    "#     results.loc[i, 'expt'] = y_needle\n",
    "#     results.loc[i, 'nn'] = y_haystack[euclid.head().index.values[0]]\n",
    "    \n",
    "#     if (i % 5 == 0):\n",
    "#         print(i)\n",
    "\n",
    "# results\n",
    "\n",
    "# dist = distance_matrix(X, X, p = 2, threshold = 1000000)\n",
    "pd.DataFrame(np.delete(np.take(dist, 0, 0), 0, 0)).sort_values(1).head(1)\n",
    "\n",
    "#     testAvgDist5.loc[i, 'dist'] = euclid[0]\n",
    "#     if (i % 5 == 0):\n",
    "#         print(i)"
   ]
  },
  {
   "cell_type": "code",
   "execution_count": 138,
   "metadata": {},
   "outputs": [],
   "source": [
    "dist = distance_matrix(X, X, p = 2, threshold = 1000000)"
   ]
  },
  {
   "cell_type": "code",
   "execution_count": 153,
   "metadata": {},
   "outputs": [
    {
     "data": {
      "text/html": [
       "<div>\n",
       "<style scoped>\n",
       "    .dataframe tbody tr th:only-of-type {\n",
       "        vertical-align: middle;\n",
       "    }\n",
       "\n",
       "    .dataframe tbody tr th {\n",
       "        vertical-align: top;\n",
       "    }\n",
       "\n",
       "    .dataframe thead th {\n",
       "        text-align: right;\n",
       "    }\n",
       "</style>\n",
       "<table border=\"1\" class=\"dataframe\">\n",
       "  <thead>\n",
       "    <tr style=\"text-align: right;\">\n",
       "      <th></th>\n",
       "      <th>0</th>\n",
       "    </tr>\n",
       "  </thead>\n",
       "  <tbody>\n",
       "    <tr>\n",
       "      <th>1278</th>\n",
       "      <td>0.0</td>\n",
       "    </tr>\n",
       "  </tbody>\n",
       "</table>\n",
       "</div>"
      ],
      "text/plain": [
       "        0\n",
       "1278  0.0"
      ]
     },
     "execution_count": 153,
     "metadata": {},
     "output_type": "execute_result"
    }
   ],
   "source": [
    "pd.DataFrame(np.delete(np.take(dist, 5, 0), 5, 0)).sort_values(0).head(1)"
   ]
  },
  {
   "cell_type": "code",
   "execution_count": 157,
   "metadata": {},
   "outputs": [
    {
     "name": "stdout",
     "output_type": "stream",
     "text": [
      "[12.31990614 12.32361308  0.         ... 10.99668157 11.48242119\n",
      " 11.12273005]\n"
     ]
    }
   ],
   "source": [
    "print(np.take(dist, 2, 0))"
   ]
  },
  {
   "cell_type": "code",
   "execution_count": 74,
   "metadata": {},
   "outputs": [
    {
     "data": {
      "text/plain": [
       "array([594], dtype=int64)"
      ]
     },
     "execution_count": 74,
     "metadata": {},
     "output_type": "execute_result"
    }
   ],
   "source": [
    "euclid.head().index.values"
   ]
  },
  {
   "cell_type": "code",
   "execution_count": 75,
   "metadata": {},
   "outputs": [
    {
     "data": {
      "text/plain": [
       "594"
      ]
     },
     "execution_count": 75,
     "metadata": {},
     "output_type": "execute_result"
    }
   ],
   "source": [
    "euclid.head().index.values[0]"
   ]
  },
  {
   "cell_type": "code",
   "execution_count": 79,
   "metadata": {},
   "outputs": [
    {
     "data": {
      "text/plain": [
       "0"
      ]
     },
     "execution_count": 79,
     "metadata": {},
     "output_type": "execute_result"
    }
   ],
   "source": [
    "y_haystack[euclid.head().index.values[0]]"
   ]
  },
  {
   "cell_type": "code",
   "execution_count": 96,
   "metadata": {},
   "outputs": [],
   "source": [
    "from scipy.spatial import distance_matrix"
   ]
  },
  {
   "cell_type": "code",
   "execution_count": 108,
   "metadata": {},
   "outputs": [],
   "source": [
    "dist = distance_matrix(X, X, p = 2, threshold = 1000000)"
   ]
  },
  {
   "cell_type": "code",
   "execution_count": 109,
   "metadata": {},
   "outputs": [
    {
     "data": {
      "text/plain": [
       "(1802, 1802)"
      ]
     },
     "execution_count": 109,
     "metadata": {},
     "output_type": "execute_result"
    }
   ],
   "source": [
    "dist.shape"
   ]
  },
  {
   "cell_type": "code",
   "execution_count": null,
   "metadata": {},
   "outputs": [],
   "source": [
    "np.take(dist, 0, 0)"
   ]
  },
  {
   "cell_type": "code",
   "execution_count": 135,
   "metadata": {},
   "outputs": [
    {
     "data": {
      "text/html": [
       "<div>\n",
       "<style scoped>\n",
       "    .dataframe tbody tr th:only-of-type {\n",
       "        vertical-align: middle;\n",
       "    }\n",
       "\n",
       "    .dataframe tbody tr th {\n",
       "        vertical-align: top;\n",
       "    }\n",
       "\n",
       "    .dataframe thead th {\n",
       "        text-align: right;\n",
       "    }\n",
       "</style>\n",
       "<table border=\"1\" class=\"dataframe\">\n",
       "  <thead>\n",
       "    <tr style=\"text-align: right;\">\n",
       "      <th></th>\n",
       "      <th>0</th>\n",
       "    </tr>\n",
       "  </thead>\n",
       "  <tbody>\n",
       "    <tr>\n",
       "      <th>594</th>\n",
       "      <td>6.055405</td>\n",
       "    </tr>\n",
       "  </tbody>\n",
       "</table>\n",
       "</div>"
      ],
      "text/plain": [
       "            0\n",
       "594  6.055405"
      ]
     },
     "execution_count": 135,
     "metadata": {},
     "output_type": "execute_result"
    }
   ],
   "source": [
    "pd.DataFrame(np.delete(np.take(dist, 0, 0), 0, 0)).sort_values(0).head(1)"
   ]
  },
  {
   "cell_type": "code",
   "execution_count": null,
   "metadata": {},
   "outputs": [],
   "source": []
  }
 ],
 "metadata": {
  "kernelspec": {
   "display_name": "Python 3",
   "language": "python",
   "name": "python3"
  },
  "language_info": {
   "codemirror_mode": {
    "name": "ipython",
    "version": 3
   },
   "file_extension": ".py",
   "mimetype": "text/x-python",
   "name": "python",
   "nbconvert_exporter": "python",
   "pygments_lexer": "ipython3",
   "version": "3.7.3"
  },
  "toc": {
   "base_numbering": 1,
   "nav_menu": {},
   "number_sections": true,
   "sideBar": false,
   "skip_h1_title": false,
   "title_cell": "Table of Contents",
   "title_sidebar": "Contents",
   "toc_cell": false,
   "toc_position": {},
   "toc_section_display": true,
   "toc_window_display": false
  }
 },
 "nbformat": 4,
 "nbformat_minor": 2
}
